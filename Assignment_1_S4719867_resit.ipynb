{
  "cells": [
    {
      "cell_type": "markdown",
      "metadata": {
        "id": "rbgjVp6BXGCT"
      },
      "source": [
        "\n",
        "# **Assignment 1**\n",
        "\n",
        "\n",
        "## Task 1. Correlation\n",
        "We will use the data example from the textbook \"Statistical Analysis with The General Linear Model\" by Miller and Haden (2013), Chapter 11.\n",
        "\n",
        "As in Miller and Haden, we have five columns:\n",
        "\n",
        "-Participant (Participant),\n",
        "\n",
        "-Reading Ability (Abil),\n",
        "\n",
        "-Intelligence (IQ),\n",
        "\n",
        "-Number of minutes spent reading at home per week (Home),\n",
        "\n",
        "-Number of minutes spent watching TV per week (TV).\n",
        "\n",
        "\n",
        "For the task we will focus on the relationship between Reading Ability and IQ, but for further practice you can look at other relationships on your own."
      ]
    },
    {
      "cell_type": "markdown",
      "metadata": {
        "id": "Z4cXzKORYFaD"
      },
      "source": [
        "**Question 1**:\n",
        "\n",
        "a. Check whether the data is interval, ratio, or ordinal.\n",
        "\n",
        "b. Check whether there is a data point for each participant on both variables.\n",
        "\n",
        "c. Check whether the data is normally distributed in both variables.\n",
        "\n",
        "d. Create a scatter plot with Reading Ability being the x-axis and IQ, being the y-axis.\n",
        "\n",
        "e. Draw a correlation line on the scatter plot.\n",
        "\n",
        "\n",
        "**Instructions:**\n",
        "\n",
        "1. Load the necessary libraries and explain why you need them (\"#used for ...\").\n",
        "\n",
        "2. Read the MillerHadenData.csv file into a DataFrame and name it \"df_mh\"."
      ]
    },
    {
      "cell_type": "code",
      "source": [
        "!pip install pingouin # install the pingouin libarary for statistics\n"
      ],
      "metadata": {
        "colab": {
          "base_uri": "https://localhost:8080/"
        },
        "id": "E3SmhZCo4xWp",
        "outputId": "604f82d5-b7ac-444c-d317-83f712a38361"
      },
      "execution_count": 157,
      "outputs": [
        {
          "output_type": "stream",
          "name": "stdout",
          "text": [
            "Requirement already satisfied: pingouin in /usr/local/lib/python3.10/dist-packages (0.5.4)\n",
            "Requirement already satisfied: numpy in /usr/local/lib/python3.10/dist-packages (from pingouin) (1.25.2)\n",
            "Requirement already satisfied: scipy in /usr/local/lib/python3.10/dist-packages (from pingouin) (1.11.4)\n",
            "Requirement already satisfied: pandas>=1.5 in /usr/local/lib/python3.10/dist-packages (from pingouin) (2.0.3)\n",
            "Requirement already satisfied: matplotlib in /usr/local/lib/python3.10/dist-packages (from pingouin) (3.7.1)\n",
            "Requirement already satisfied: seaborn in /usr/local/lib/python3.10/dist-packages (from pingouin) (0.13.1)\n",
            "Requirement already satisfied: statsmodels in /usr/local/lib/python3.10/dist-packages (from pingouin) (0.14.2)\n",
            "Requirement already satisfied: scikit-learn in /usr/local/lib/python3.10/dist-packages (from pingouin) (1.2.2)\n",
            "Requirement already satisfied: pandas-flavor in /usr/local/lib/python3.10/dist-packages (from pingouin) (0.6.0)\n",
            "Requirement already satisfied: tabulate in /usr/local/lib/python3.10/dist-packages (from pingouin) (0.9.0)\n",
            "Requirement already satisfied: python-dateutil>=2.8.2 in /usr/local/lib/python3.10/dist-packages (from pandas>=1.5->pingouin) (2.8.2)\n",
            "Requirement already satisfied: pytz>=2020.1 in /usr/local/lib/python3.10/dist-packages (from pandas>=1.5->pingouin) (2023.4)\n",
            "Requirement already satisfied: tzdata>=2022.1 in /usr/local/lib/python3.10/dist-packages (from pandas>=1.5->pingouin) (2024.1)\n",
            "Requirement already satisfied: contourpy>=1.0.1 in /usr/local/lib/python3.10/dist-packages (from matplotlib->pingouin) (1.2.1)\n",
            "Requirement already satisfied: cycler>=0.10 in /usr/local/lib/python3.10/dist-packages (from matplotlib->pingouin) (0.12.1)\n",
            "Requirement already satisfied: fonttools>=4.22.0 in /usr/local/lib/python3.10/dist-packages (from matplotlib->pingouin) (4.51.0)\n",
            "Requirement already satisfied: kiwisolver>=1.0.1 in /usr/local/lib/python3.10/dist-packages (from matplotlib->pingouin) (1.4.5)\n",
            "Requirement already satisfied: packaging>=20.0 in /usr/local/lib/python3.10/dist-packages (from matplotlib->pingouin) (24.0)\n",
            "Requirement already satisfied: pillow>=6.2.0 in /usr/local/lib/python3.10/dist-packages (from matplotlib->pingouin) (9.4.0)\n",
            "Requirement already satisfied: pyparsing>=2.3.1 in /usr/local/lib/python3.10/dist-packages (from matplotlib->pingouin) (3.1.2)\n",
            "Requirement already satisfied: xarray in /usr/local/lib/python3.10/dist-packages (from pandas-flavor->pingouin) (2023.7.0)\n",
            "Requirement already satisfied: joblib>=1.1.1 in /usr/local/lib/python3.10/dist-packages (from scikit-learn->pingouin) (1.4.2)\n",
            "Requirement already satisfied: threadpoolctl>=2.0.0 in /usr/local/lib/python3.10/dist-packages (from scikit-learn->pingouin) (3.5.0)\n",
            "Requirement already satisfied: patsy>=0.5.6 in /usr/local/lib/python3.10/dist-packages (from statsmodels->pingouin) (0.5.6)\n",
            "Requirement already satisfied: six in /usr/local/lib/python3.10/dist-packages (from patsy>=0.5.6->statsmodels->pingouin) (1.16.0)\n"
          ]
        }
      ]
    },
    {
      "cell_type": "code",
      "execution_count": 158,
      "metadata": {
        "id": "140M8Z4qYn_G"
      },
      "outputs": [],
      "source": [
        "import pandas as pd # used for data wrangling\n",
        "import seaborn as sns # used for visualization\n",
        "import matplotlib  # used for plot display\n",
        "from matplotlib import pyplot as plt # used for plot display\n",
        "import pylab # used for plot display\n",
        "import pingouin as pg # used for data statistics\n",
        "\n",
        "# to read the data csv file and convert it to a DataFrame\n",
        "df_mh = pd.read_csv('MillerHadenData.csv')\n",
        "\n",
        "\n"
      ]
    },
    {
      "cell_type": "code",
      "execution_count": 159,
      "metadata": {
        "id": "rwqidw5q2D1n",
        "scrolled": true,
        "colab": {
          "base_uri": "https://localhost:8080/"
        },
        "outputId": "957aa494-c94e-4650-e060-46fb58588ea4"
      },
      "outputs": [
        {
          "output_type": "stream",
          "name": "stdout",
          "text": [
            "   Participant  Abil   IQ  Home   TV\n",
            "0            1    61  107   144  487\n",
            "1            2    56  109   123  608\n",
            "2            3    45   81   108  640\n",
            "3            4    66  100   155  493\n",
            "4            5    49   92   103  636\n",
            "Abil, IQ, Home and TV are ratio data.\n"
          ]
        }
      ],
      "source": [
        "# Q1a (code):\n",
        "\n",
        "# Display first few rows of the dataframe\n",
        "print(df_mh.head())\n",
        "\n",
        "# Check data types and information\n",
        "print(\"Abil, IQ, Home and TV are ratio data.\")\n"
      ]
    },
    {
      "cell_type": "code",
      "execution_count": 160,
      "metadata": {
        "id": "Edd9mYgi2Jar",
        "colab": {
          "base_uri": "https://localhost:8080/"
        },
        "outputId": "c700a526-e075-41a5-fcca-f7c0c177affa"
      },
      "outputs": [
        {
          "output_type": "stream",
          "name": "stdout",
          "text": [
            "There is no missing data.\n"
          ]
        }
      ],
      "source": [
        "# Q1b (code):\n",
        "# Check for missing values\n",
        "\n",
        "# check the missing data and count\n",
        "count_missing = df_mh[[\"Abil\",\"IQ\"]].isnull().any().sum()\n",
        "\n",
        "# Check whether there is a data point for each participant on both variables\n",
        "if count_missing == 0:\n",
        "    # print result if no missing data\n",
        "    print(\"There is no missing data.\" )\n",
        "else:\n",
        "     # print the count of missing data if there is any\n",
        "    print(\"There are {count_missing} data points missing.\")\n"
      ]
    },
    {
      "cell_type": "code",
      "execution_count": 161,
      "metadata": {
        "id": "3ALe0fjr2K5h",
        "colab": {
          "base_uri": "https://localhost:8080/",
          "height": 523
        },
        "outputId": "401299a5-0bc2-4f8c-9551-1ea0401d5b52"
      },
      "outputs": [
        {
          "output_type": "execute_result",
          "data": {
            "text/plain": [
              "array([[<Axes: title={'center': 'Participant'}>,\n",
              "        <Axes: title={'center': 'Abil'}>],\n",
              "       [<Axes: title={'center': 'IQ'}>, <Axes: title={'center': 'Home'}>],\n",
              "       [<Axes: title={'center': 'TV'}>, <Axes: >]], dtype=object)"
            ]
          },
          "metadata": {},
          "execution_count": 161
        },
        {
          "output_type": "display_data",
          "data": {
            "text/plain": [
              "<Figure size 640x480 with 6 Axes>"
            ],
            "image/png": "[encoded data removed]"
          },
          "metadata": {}
        }
      ],
      "source": [
        "# Q1c (code):\n",
        "# Check data distribution\n",
        "\n",
        "# create the histogram of data to check the distribution directly and quikly\n",
        "df_mh.hist()"
      ]
    },
    {
      "cell_type": "code",
      "execution_count": 162,
      "metadata": {
        "id": "xaQ300fY2MPe",
        "colab": {
          "base_uri": "https://localhost:8080/",
          "height": 449
        },
        "outputId": "84b20747-9900-4103-c96e-2f594bff0434"
      },
      "outputs": [
        {
          "output_type": "display_data",
          "data": {
            "text/plain": [
              "<Figure size 640x480 with 1 Axes>"
            ],
            "image/png": "[encoded data removed]"
          },
          "metadata": {}
        }
      ],
      "source": [
        "# Q1d (code):\n",
        "# Scatter plot\n",
        "\n",
        "# define the variable of reading ability\n",
        "Abil = df_mh[\"Abil\"]\n",
        "# define the variable of IQ\n",
        "IQ = df_mh[\"IQ\"]\n",
        "\n",
        "# set the plot variables and the point color as green\n",
        "plt.scatter(Abil, IQ, c=\"g\")\n",
        "# set the label of y-axis\n",
        "plt.ylabel(\"IQ\")\n",
        "# set the label of x-axis\n",
        "plt.xlabel(\"Reading Ability\")\n",
        "# show the scatter plot\n",
        "plt.show()\n",
        "\n"
      ]
    },
    {
      "cell_type": "code",
      "execution_count": 163,
      "metadata": {
        "id": "Zpkwqc382N06",
        "colab": {
          "base_uri": "https://localhost:8080/",
          "height": 449
        },
        "outputId": "6e148cd3-a2f3-4388-a90d-372a1c5a9241"
      },
      "outputs": [
        {
          "output_type": "display_data",
          "data": {
            "text/plain": [
              "<Figure size 640x480 with 1 Axes>"
            ],
            "image/png": "[encoded data removed]"
          },
          "metadata": {}
        }
      ],
      "source": [
        "# Q1e (code):\n",
        "# Correlation line\n",
        "\n",
        "# draw the correlation line between two variables\n",
        "plot_corr_sns=sns.regplot(x=\"Abil\", y=\"IQ\", color=\"g\", data=df_mh)\n",
        "\n",
        "# set the label of y-axis\n",
        "plt.ylabel(\"IQ\")\n",
        "# set the label of x-axis\n",
        "plt.xlabel(\"Reading Ability\")\n",
        "# show the scatter plot\n",
        "plt.show()\n",
        "\n"
      ]
    },
    {
      "cell_type": "markdown",
      "metadata": {
        "id": "tKtW2diqZq1S"
      },
      "source": [
        "**Question 2**:\n",
        "\n",
        "a. Which correlation coefficient test can we use, Pearson or Spearman? Briefly explian why based on the results of Question 1.\n",
        "\n",
        "b. Conduct a correlation coefficient test.\n",
        "\n",
        "c. Interpret the result (direction and strength of the association between the two varibles)"
      ]
    },
    {
      "cell_type": "code",
      "execution_count": 164,
      "metadata": {
        "id": "t5GRVxHwaKIS",
        "colab": {
          "base_uri": "https://localhost:8080/",
          "height": 35
        },
        "outputId": "c5335a0c-706a-41d4-b4b8-ebce43b4620a"
      },
      "outputs": [
        {
          "output_type": "execute_result",
          "data": {
            "text/plain": [
              "'we can use Pearson coefficient test, because the data is continuous, normally distributed, and exhibits a linear relationship between two variables.'"
            ],
            "application/vnd.google.colaboratory.intrinsic+json": {
              "type": "string"
            }
          },
          "metadata": {},
          "execution_count": 164
        }
      ],
      "source": [
        "# Q2a (answer with words):\n",
        "'''we can use Pearson coefficient test, because the data is continuous, normally distributed, and exhibits a linear relationship between two variables.'''"
      ]
    },
    {
      "cell_type": "code",
      "execution_count": 165,
      "metadata": {
        "id": "LTSp6xMFaKgf",
        "colab": {
          "base_uri": "https://localhost:8080/"
        },
        "outputId": "a9a2a344-cb80-4c29-f1a6-8c9ed1a6be8e"
      },
      "outputs": [
        {
          "output_type": "stream",
          "name": "stdout",
          "text": [
            "          n        r         CI95%     p-val   BF10     power\n",
            "pearson  25  0.45117  [0.07, 0.72]  0.023593  2.804  0.640299\n"
          ]
        }
      ],
      "source": [
        "# Q2b (code):\n",
        "\n",
        "# use Pingouin corr() function to conduct the Pearson correlation coefficient test\n",
        "corr_Pear= pg.corr(Abil, IQ)\n",
        "\n",
        "# print the test result\n",
        "print (corr_Pear)"
      ]
    },
    {
      "cell_type": "code",
      "execution_count": 166,
      "metadata": {
        "id": "m_3aCSG7ylFJ",
        "colab": {
          "base_uri": "https://localhost:8080/",
          "height": 71
        },
        "outputId": "5075ce79-200d-4b72-dc2b-4859dffcbb23"
      },
      "outputs": [
        {
          "output_type": "execute_result",
          "data": {
            "text/plain": [
              "' r=0.45117.The correlation coefficient is 0.45117, it is positive . So the correlation directionality is positive. When the value of one variable increases,the value of another one will also increase. The number is not very closed to the 1 or 0, so the correlation between reading ability and IQ is not weak or strong, but in a medium degree. '"
            ],
            "application/vnd.google.colaboratory.intrinsic+json": {
              "type": "string"
            }
          },
          "metadata": {},
          "execution_count": 166
        }
      ],
      "source": [
        "# Q2c (answer with words):\n",
        "\n",
        "\n",
        "\n",
        "''' r=0.45117.The correlation coefficient is 0.45117, it is positive . So the correlation directionality is positive. When the value of one variable increases,the value of another one will also increase. The number is not very closed to the 1 or 0, so the correlation between reading ability and IQ is not weak or strong, but in a medium degree. '''\n",
        "\n",
        "\n"
      ]
    },
    {
      "cell_type": "markdown",
      "metadata": {
        "id": "mogdaz8P27oU"
      },
      "source": [
        "## Task 2. Chi-square Test\n",
        "We will continue to use the data example from Task 1.\n",
        "\n",
        "We want to explore whether there are significant differences in the amount of time spent reading at home per week (Home) among people with different reading abilities (Reading Ability). Therefore, we will divide the reading ability of all participants into two groups. The first group is those with low reading ability (Reading Ability at or below the rounded average), and the second group is those with high reading ability (Reading Ability above the rounded average). We will store this grouping in a new column named \"Rank_Abil\".\n",
        "\n",
        "\n",
        "Similarly, the reading time is divided into two different scenarios: the first scenario is infrequent reading (Home at or below the rounded average), and the other is frequent reading (Reading Ability above the rounded average). We will store this grouping in a new column named \"Rank_Home\".\n",
        "\n",
        "\n",
        "Then, construct a Contingency Matrix and perform a Chi-square test.\n",
        "\n",
        "**Question 3**:\n",
        "\n",
        "a. Please state the null hypothesis (H0) and alternative hypothesis (H1) for this Chi-square test.\n",
        "\n",
        "b. Based on the task description, add new columns “Rank_Abil” and \"Rank_Home\" to the dataframe df_mh.\n",
        "\n",
        "c. Construct a Contingency Matrix.\n",
        "\n",
        "d. Perform a Chi-square test.\n",
        "\n",
        "e. Interpret the results of the Chi-square test (answer in text)."
      ]
    },
    {
      "cell_type": "code",
      "execution_count": 167,
      "metadata": {
        "id": "tIKHfEwG-Pte",
        "colab": {
          "base_uri": "https://localhost:8080/",
          "height": 53
        },
        "outputId": "81818877-dd42-4eb4-cccc-1cf8c52799b4"
      },
      "outputs": [
        {
          "output_type": "execute_result",
          "data": {
            "text/plain": [
              "' H1:People with high reading abilities spend more time reading at home per week than those with low reading abilities .\\nH0:There is no difference in the amount of time spent reading at home per week among people with different reading abilities .'"
            ],
            "application/vnd.google.colaboratory.intrinsic+json": {
              "type": "string"
            }
          },
          "metadata": {},
          "execution_count": 167
        }
      ],
      "source": [
        "# Q3a (answer in words):\n",
        "''' H1:People with high reading abilities spend more time reading at home per week than those with low reading abilities .\n",
        "H0:There is no difference in the amount of time spent reading at home per week among people with different reading abilities .'''\n"
      ]
    },
    {
      "cell_type": "code",
      "execution_count": 168,
      "metadata": {
        "id": "nlO-hmq2-V2Z"
      },
      "outputs": [],
      "source": [
        "# Q3b (code):\n",
        "# Import necessary libraries\n",
        "import pandas as pd  ##used for data organization and manipulation\n",
        "from scipy.stats import chi2_contingency ##used for conducting Chi-square test\n",
        "\n",
        "# Define the rounded average for Reading Ability and Home\n",
        "avg_Abil = round(df_mh['Abil'].mean())\n",
        "avg_Home = round(df_mh['Home'].mean())\n",
        "\n",
        "\n",
        "# Create the Rank_Abil column\n",
        "# Define functions for rank condition, if the value <= average value, then the rank is low, else, its high\n",
        "def rank_abil(value):\n",
        "    if value <= avg_Abil:\n",
        "        return 'Low'\n",
        "    else:\n",
        "        return 'High'\n",
        "# create the column according to the condition of the value of reading abilities\n",
        "df_mh['Rank_Abil'] = df_mh['Abil'].apply(rank_abil)\n",
        "\n",
        "\n",
        "# Create the Rank_Home column\n",
        "# Define functions for rank condition, if the value <= average value, then the rank is infrequent, else it is frequent\n",
        "def rank_home(value):\n",
        "    if value <= avg_Home:\n",
        "        return 'Infrequent'\n",
        "    else:\n",
        "        return 'Frequent'\n",
        "# create the column according to the condition of the value of time spent on reading\n",
        "df_mh['Rank_Home'] = df_mh['Home'].apply(rank_home)\n",
        "\n",
        "\n",
        "\n"
      ]
    },
    {
      "cell_type": "code",
      "execution_count": 169,
      "metadata": {
        "id": "jjtp4cm4-Y36",
        "colab": {
          "base_uri": "https://localhost:8080/"
        },
        "outputId": "b843d79d-1e2d-4be1-d40c-4d552a7d89f1"
      },
      "outputs": [
        {
          "output_type": "stream",
          "name": "stdout",
          "text": [
            "The values:\n",
            "[8, 2, 3, 12]\n",
            "The contingency matrix\n",
            "[[ 8  2]\n",
            " [ 3 12]]\n"
          ]
        }
      ],
      "source": [
        "# Q3c (code):\n",
        "\n",
        "# Construct Contingency Matrix\n",
        "\n",
        "# create the dataframe separately of each variable for contingency martrix\n",
        "high_frequent = df_mh[(df_mh['Rank_Abil'] == \"High\") & (df_mh['Rank_Home'] == 'Frequent')]\n",
        "high_infrequent = df_mh[(df_mh['Rank_Abil'] == \"High\") & (df_mh['Rank_Home'] == 'Infrequent')]\n",
        "low_frequent = df_mh[(df_mh['Rank_Abil'] == \"Low\") & (df_mh['Rank_Home'] == 'Frequent')]\n",
        "low_infrequent = df_mh[(df_mh['Rank_Abil'] == \"Low\") & (df_mh['Rank_Home'] == 'Infrequent')]\n",
        "\n",
        "# create a list of values for contingency martrix\n",
        "data4contingency = []\n",
        "# obtain the row count for each dataframe of variables for contingency martrix, which is the number(frequency) of people meeting the specific conditions\n",
        "# then store these value obtained into the list created for contingency martrix\n",
        "data4contingency.append(len(high_frequent))\n",
        "data4contingency.append(len(high_infrequent))\n",
        "data4contingency.append(len(low_frequent))\n",
        "data4contingency.append(len(low_infrequent))\n",
        "\n",
        "# print the values of high_frequent, high_infrequent, low_frequent and low_infrequent\n",
        "print('The values:')\n",
        "print(data4contingency)\n",
        "\n",
        "# transform the list in a contingency matrix\n",
        "data_cm = np.array(data4contingency).reshape(2,-1)\n",
        "\n",
        "# displat the contingency matrix\n",
        "print('The contingency matrix')\n",
        "print(data_cm)"
      ]
    },
    {
      "cell_type": "code",
      "execution_count": 170,
      "metadata": {
        "id": "gyDS8hq2-bmx",
        "colab": {
          "base_uri": "https://localhost:8080/"
        },
        "outputId": "aabe6a89-3c35-4522-b858-6cf7fcbc5327"
      },
      "outputs": [
        {
          "output_type": "stream",
          "name": "stdout",
          "text": [
            "6.500270562770561 0.010785807794066234\n",
            "These are the expected frequencies\n",
            "[[4.4 5.6]\n",
            " [6.6 8.4]]\n",
            "The observed differences are statiscally significant - H0 is rejected\n"
          ]
        }
      ],
      "source": [
        "# Q3d (code):\n",
        "# Perform the Chi-square test\n",
        "chi2, p_value, degree_of_freedom, expected_frequencies= chi2_contingency(data_cm)\n",
        "# print the Chi-square value and the p value\n",
        "print(chi2, p_value)\n",
        "\n",
        "# print the expected frequencies of the chi square test\n",
        "print('These are the expected frequencies')\n",
        "print(expected_frequencies)\n",
        "\n",
        "# print the p value\n",
        "if p_value < 0.05:\n",
        "    print(\"The observed differences are statiscally significant - H0 is rejected\")\n",
        "else:\n",
        "    print(\"The observed differences are not statiscally significant - H1 is rejected\")"
      ]
    },
    {
      "cell_type": "code",
      "execution_count": 171,
      "metadata": {
        "id": "fj0gW0pS-dN5",
        "colab": {
          "base_uri": "https://localhost:8080/",
          "height": 71
        },
        "outputId": "37e474de-53c5-438c-d33e-36defcfd4f73"
      },
      "outputs": [
        {
          "output_type": "execute_result",
          "data": {
            "text/plain": [
              "'p value < 0.05，null hypothesis is rejected. The chi2 value is 6.5, which is large. This suggests the observed data is significantly different from the expected. The expected data exsits given the reading ability and the reading time have no assciation. So the H0 is rejected here, and there is a significant association between reading time per week and reading abilities.'"
            ],
            "application/vnd.google.colaboratory.intrinsic+json": {
              "type": "string"
            }
          },
          "metadata": {},
          "execution_count": 171
        }
      ],
      "source": [
        "# Q3e (answer in words):\n",
        "'''p value < 0.05，null hypothesis is rejected. The chi2 value is 6.5, which is large. This suggests the observed data is significantly different from the expected. The expected data exsits given the reading ability and the reading time have no assciation. So the H0 is rejected here, and there is a significant association between reading time per week and reading abilities.'''\n",
        "\n"
      ]
    },
    {
      "cell_type": "markdown",
      "metadata": {
        "id": "FgYRxqqpaUIk"
      },
      "source": [
        "## Task 3. Two-sample t-test\n",
        "As we discussed on Week 3, Two-sample designs are very useful when we want to know whether there is a difference between groups on a particular variable.\n",
        "\n",
        "In this assignment, you will be guided to replicate the Experiment 4 (p. 887-888) from the paper below, focusing on understanding the data through descriptive statistics, visualizing distributions, testing assumptions (normality and variance homogeneity), and finally performing the independent t-test.\n",
        "\n",
        "Schroeder, J. and Epley, N. (2015). The sound of intellect: Speech reveals a thoughtful mind, increasing a job candidate's appeal. Psychological Science, 26, 277--891.\n",
        "\n",
        "\n",
        "As we explained during Week 3 lecture, there are different types of two-sample designs depending on whether or not the two groups are independent (e.g., different participants in different conditions) or not (e.g., same participants in different conditions). In this course we focus on independent samples, which typically means that the observations in the two groups are unrelated - usually meaning different people. But in real practice you will need to go through similar procedures to determine which is the proper statistical test to use.\n",
        "\n",
        "\n",
        "\n",
        "\n",
        "### Background of data: Speech as indicator of intellect\n",
        "To recap on Experiment 4, 39 professional recruiters from Fortune 500 companies evaluated job pitches of M.B.A. candidates (Masters in Business Administration) from the University of Chicago Booth School of Business. The methods and results appear on pages 887--889 of the article if you want to look at them specifically for more details."
      ]
    },
    {
      "cell_type": "markdown",
      "metadata": {
        "id": "vIc57Glgn5Bb"
      },
      "source": [
        "###Step 1: Analyze the demographics of evaluators from the provided dataset\n",
        "\n",
        "**Instructions:**\n",
        "\n",
        "1. Load the necessary libraries (pandas, scipy, numpy, matplotlib.pyplot, seaborn) and explain why you need them (\"#used for ...\").\n",
        "\n",
        "2. Read the evaluators.csv file into a DataFrame.\n",
        "\n",
        "3. Calculate the mean and standard deviation of the age of the evaluators, handling missing values appropriately.\n",
        "\n",
        "4. Count how many male and female evaluators were in the study.\n",
        "\n",
        "**Question 4:**\n",
        "\n",
        "a. What was the mean age of the evaluators?\n",
        "What was the standard deviation of the age of the evaluators?\n",
        "\n",
        "b. How many participants were female and how many participants were male?\n"
      ]
    },
    {
      "cell_type": "code",
      "execution_count": 172,
      "metadata": {
        "id": "RgnTye-yojyH",
        "colab": {
          "base_uri": "https://localhost:8080/",
          "height": 206
        },
        "outputId": "7c83e5f9-c9d7-4a21-dec7-cdeee0587c91"
      },
      "outputs": [
        {
          "output_type": "execute_result",
          "data": {
            "text/plain": [
              "   eval_id condition   age  sex\n",
              "0        1  listened  29.0  2.0\n",
              "1        2  listened  27.0  2.0\n",
              "2        3  listened  27.0  2.0\n",
              "3        4      read  40.0  2.0\n",
              "4        5      read  32.0  2.0"
            ],
            "text/html": [
              "\n",
              "  <div id=\"df-fc46b928-7bb0-4296-bdd6-4a20d0763ecc\" class=\"colab-df-container\">\n",
              "    <div>\n",
              "<style scoped>\n",
              "    .dataframe tbody tr th:only-of-type {\n",
              "        vertical-align: middle;\n",
              "    }\n",
              "\n",
              "    .dataframe tbody tr th {\n",
              "        vertical-align: top;\n",
              "    }\n",
              "\n",
              "    .dataframe thead th {\n",
              "        text-align: right;\n",
              "    }\n",
              "</style>\n",
              "<table border=\"1\" class=\"dataframe\">\n",
              "  <thead>\n",
              "    <tr style=\"text-align: right;\">\n",
              "      <th></th>\n",
              "      <th>eval_id</th>\n",
              "      <th>condition</th>\n",
              "      <th>age</th>\n",
              "      <th>sex</th>\n",
              "    </tr>\n",
              "  </thead>\n",
              "  <tbody>\n",
              "    <tr>\n",
              "      <th>0</th>\n",
              "      <td>1</td>\n",
              "      <td>listened</td>\n",
              "      <td>29.0</td>\n",
              "      <td>2.0</td>\n",
              "    </tr>\n",
              "    <tr>\n",
              "      <th>1</th>\n",
              "      <td>2</td>\n",
              "      <td>listened</td>\n",
              "      <td>27.0</td>\n",
              "      <td>2.0</td>\n",
              "    </tr>\n",
              "    <tr>\n",
              "      <th>2</th>\n",
              "      <td>3</td>\n",
              "      <td>listened</td>\n",
              "      <td>27.0</td>\n",
              "      <td>2.0</td>\n",
              "    </tr>\n",
              "    <tr>\n",
              "      <th>3</th>\n",
              "      <td>4</td>\n",
              "      <td>read</td>\n",
              "      <td>40.0</td>\n",
              "      <td>2.0</td>\n",
              "    </tr>\n",
              "    <tr>\n",
              "      <th>4</th>\n",
              "      <td>5</td>\n",
              "      <td>read</td>\n",
              "      <td>32.0</td>\n",
              "      <td>2.0</td>\n",
              "    </tr>\n",
              "  </tbody>\n",
              "</table>\n",
              "</div>\n",
              "    <div class=\"colab-df-buttons\">\n",
              "\n",
              "  <div class=\"colab-df-container\">\n",
              "    <button class=\"colab-df-convert\" onclick=\"convertToInteractive('df-fc46b928-7bb0-4296-bdd6-4a20d0763ecc')\"\n",
              "            title=\"Convert this dataframe to an interactive table.\"\n",
              "            style=\"display:none;\">\n",
              "\n",
              "  <svg xmlns=\"http://www.w3.org/2000/svg\" height=\"24px\" viewBox=\"0 -960 960 960\">\n",
              "    <path d=\"M120-120v-720h720v720H120Zm60-500h600v-160H180v160Zm220 220h160v-160H400v160Zm0 220h160v-160H400v160ZM180-400h160v-160H180v160Zm440 0h160v-160H620v160ZM180-180h160v-160H180v160Zm440 0h160v-160H620v160Z\"/>\n",
              "  </svg>\n",
              "    </button>\n",
              "\n",
              "  <style>\n",
              "    .colab-df-container {\n",
              "      display:flex;\n",
              "      gap: 12px;\n",
              "    }\n",
              "\n",
              "    .colab-df-convert {\n",
              "      background-color: #E8F0FE;\n",
              "      border: none;\n",
              "      border-radius: 50%;\n",
              "      cursor: pointer;\n",
              "      display: none;\n",
              "      fill: #1967D2;\n",
              "      height: 32px;\n",
              "      padding: 0 0 0 0;\n",
              "      width: 32px;\n",
              "    }\n",
              "\n",
              "    .colab-df-convert:hover {\n",
              "      background-color: #E2EBFA;\n",
              "      box-shadow: 0px 1px 2px rgba(60, 64, 67, 0.3), 0px 1px 3px 1px rgba(60, 64, 67, 0.15);\n",
              "      fill: #174EA6;\n",
              "    }\n",
              "\n",
              "    .colab-df-buttons div {\n",
              "      margin-bottom: 4px;\n",
              "    }\n",
              "\n",
              "    [theme=dark] .colab-df-convert {\n",
              "      background-color: #3B4455;\n",
              "      fill: #D2E3FC;\n",
              "    }\n",
              "\n",
              "    [theme=dark] .colab-df-convert:hover {\n",
              "      background-color: #434B5C;\n",
              "      box-shadow: 0px 1px 3px 1px rgba(0, 0, 0, 0.15);\n",
              "      filter: drop-shadow(0px 1px 2px rgba(0, 0, 0, 0.3));\n",
              "      fill: #FFFFFF;\n",
              "    }\n",
              "  </style>\n",
              "\n",
              "    <script>\n",
              "      const buttonEl =\n",
              "        document.querySelector('#df-fc46b928-7bb0-4296-bdd6-4a20d0763ecc button.colab-df-convert');\n",
              "      buttonEl.style.display =\n",
              "        google.colab.kernel.accessAllowed ? 'block' : 'none';\n",
              "\n",
              "      async function convertToInteractive(key) {\n",
              "        const element = document.querySelector('#df-fc46b928-7bb0-4296-bdd6-4a20d0763ecc');\n",
              "        const dataTable =\n",
              "          await google.colab.kernel.invokeFunction('convertToInteractive',\n",
              "                                                    [key], {});\n",
              "        if (!dataTable) return;\n",
              "\n",
              "        const docLinkHtml = 'Like what you see? Visit the ' +\n",
              "          '<a target=\"_blank\" href=https://colab.research.google.com/notebooks/data_table.ipynb>data table notebook</a>'\n",
              "          + ' to learn more about interactive tables.';\n",
              "        element.innerHTML = '';\n",
              "        dataTable['output_type'] = 'display_data';\n",
              "        await google.colab.output.renderOutput(dataTable, element);\n",
              "        const docLink = document.createElement('div');\n",
              "        docLink.innerHTML = docLinkHtml;\n",
              "        element.appendChild(docLink);\n",
              "      }\n",
              "    </script>\n",
              "  </div>\n",
              "\n",
              "\n",
              "<div id=\"df-1780c07d-2cf7-4545-a415-e5099f3ef746\">\n",
              "  <button class=\"colab-df-quickchart\" onclick=\"quickchart('df-1780c07d-2cf7-4545-a415-e5099f3ef746')\"\n",
              "            title=\"Suggest charts\"\n",
              "            style=\"display:none;\">\n",
              "\n",
              "<svg xmlns=\"http://www.w3.org/2000/svg\" height=\"24px\"viewBox=\"0 0 24 24\"\n",
              "     width=\"24px\">\n",
              "    <g>\n",
              "        <path d=\"M19 3H5c-1.1 0-2 .9-2 2v14c0 1.1.9 2 2 2h14c1.1 0 2-.9 2-2V5c0-1.1-.9-2-2-2zM9 17H7v-7h2v7zm4 0h-2V7h2v10zm4 0h-2v-4h2v4z\"/>\n",
              "    </g>\n",
              "</svg>\n",
              "  </button>\n",
              "\n",
              "<style>\n",
              "  .colab-df-quickchart {\n",
              "      --bg-color: #E8F0FE;\n",
              "      --fill-color: #1967D2;\n",
              "      --hover-bg-color: #E2EBFA;\n",
              "      --hover-fill-color: #174EA6;\n",
              "      --disabled-fill-color: #AAA;\n",
              "      --disabled-bg-color: #DDD;\n",
              "  }\n",
              "\n",
              "  [theme=dark] .colab-df-quickchart {\n",
              "      --bg-color: #3B4455;\n",
              "      --fill-color: #D2E3FC;\n",
              "      --hover-bg-color: #434B5C;\n",
              "      --hover-fill-color: #FFFFFF;\n",
              "      --disabled-bg-color: #3B4455;\n",
              "      --disabled-fill-color: #666;\n",
              "  }\n",
              "\n",
              "  .colab-df-quickchart {\n",
              "    background-color: var(--bg-color);\n",
              "    border: none;\n",
              "    border-radius: 50%;\n",
              "    cursor: pointer;\n",
              "    display: none;\n",
              "    fill: var(--fill-color);\n",
              "    height: 32px;\n",
              "    padding: 0;\n",
              "    width: 32px;\n",
              "  }\n",
              "\n",
              "  .colab-df-quickchart:hover {\n",
              "    background-color: var(--hover-bg-color);\n",
              "    box-shadow: 0 1px 2px rgba(60, 64, 67, 0.3), 0 1px 3px 1px rgba(60, 64, 67, 0.15);\n",
              "    fill: var(--button-hover-fill-color);\n",
              "  }\n",
              "\n",
              "  .colab-df-quickchart-complete:disabled,\n",
              "  .colab-df-quickchart-complete:disabled:hover {\n",
              "    background-color: var(--disabled-bg-color);\n",
              "    fill: var(--disabled-fill-color);\n",
              "    box-shadow: none;\n",
              "  }\n",
              "\n",
              "  .colab-df-spinner {\n",
              "    border: 2px solid var(--fill-color);\n",
              "    border-color: transparent;\n",
              "    border-bottom-color: var(--fill-color);\n",
              "    animation:\n",
              "      spin 1s steps(1) infinite;\n",
              "  }\n",
              "\n",
              "  @keyframes spin {\n",
              "    0% {\n",
              "      border-color: transparent;\n",
              "      border-bottom-color: var(--fill-color);\n",
              "      border-left-color: var(--fill-color);\n",
              "    }\n",
              "    20% {\n",
              "      border-color: transparent;\n",
              "      border-left-color: var(--fill-color);\n",
              "      border-top-color: var(--fill-color);\n",
              "    }\n",
              "    30% {\n",
              "      border-color: transparent;\n",
              "      border-left-color: var(--fill-color);\n",
              "      border-top-color: var(--fill-color);\n",
              "      border-right-color: var(--fill-color);\n",
              "    }\n",
              "    40% {\n",
              "      border-color: transparent;\n",
              "      border-right-color: var(--fill-color);\n",
              "      border-top-color: var(--fill-color);\n",
              "    }\n",
              "    60% {\n",
              "      border-color: transparent;\n",
              "      border-right-color: var(--fill-color);\n",
              "    }\n",
              "    80% {\n",
              "      border-color: transparent;\n",
              "      border-right-color: var(--fill-color);\n",
              "      border-bottom-color: var(--fill-color);\n",
              "    }\n",
              "    90% {\n",
              "      border-color: transparent;\n",
              "      border-bottom-color: var(--fill-color);\n",
              "    }\n",
              "  }\n",
              "</style>\n",
              "\n",
              "  <script>\n",
              "    async function quickchart(key) {\n",
              "      const quickchartButtonEl =\n",
              "        document.querySelector('#' + key + ' button');\n",
              "      quickchartButtonEl.disabled = true;  // To prevent multiple clicks.\n",
              "      quickchartButtonEl.classList.add('colab-df-spinner');\n",
              "      try {\n",
              "        const charts = await google.colab.kernel.invokeFunction(\n",
              "            'suggestCharts', [key], {});\n",
              "      } catch (error) {\n",
              "        console.error('Error during call to suggestCharts:', error);\n",
              "      }\n",
              "      quickchartButtonEl.classList.remove('colab-df-spinner');\n",
              "      quickchartButtonEl.classList.add('colab-df-quickchart-complete');\n",
              "    }\n",
              "    (() => {\n",
              "      let quickchartButtonEl =\n",
              "        document.querySelector('#df-1780c07d-2cf7-4545-a415-e5099f3ef746 button');\n",
              "      quickchartButtonEl.style.display =\n",
              "        google.colab.kernel.accessAllowed ? 'block' : 'none';\n",
              "    })();\n",
              "  </script>\n",
              "</div>\n",
              "    </div>\n",
              "  </div>\n"
            ],
            "application/vnd.google.colaboratory.intrinsic+json": {
              "type": "dataframe",
              "variable_name": "df_evaluators",
              "summary": "{\n  \"name\": \"df_evaluators\",\n  \"rows\": 39,\n  \"fields\": [\n    {\n      \"column\": \"eval_id\",\n      \"properties\": {\n        \"dtype\": \"number\",\n        \"std\": 11,\n        \"min\": 1,\n        \"max\": 39,\n        \"num_unique_values\": 39,\n        \"samples\": [\n          34,\n          37,\n          5\n        ],\n        \"semantic_type\": \"\",\n        \"description\": \"\"\n      }\n    },\n    {\n      \"column\": \"condition\",\n      \"properties\": {\n        \"dtype\": \"category\",\n        \"num_unique_values\": 2,\n        \"samples\": [\n          \"read\",\n          \"listened\"\n        ],\n        \"semantic_type\": \"\",\n        \"description\": \"\"\n      }\n    },\n    {\n      \"column\": \"age\",\n      \"properties\": {\n        \"dtype\": \"number\",\n        \"std\": 6.238358141327351,\n        \"min\": 23.0,\n        \"max\": 48.0,\n        \"num_unique_values\": 15,\n        \"samples\": [\n          25.0,\n          31.0\n        ],\n        \"semantic_type\": \"\",\n        \"description\": \"\"\n      }\n    },\n    {\n      \"column\": \"sex\",\n      \"properties\": {\n        \"dtype\": \"number\",\n        \"std\": 0.32703497008386434,\n        \"min\": 1.0,\n        \"max\": 2.0,\n        \"num_unique_values\": 2,\n        \"samples\": [\n          1.0,\n          2.0\n        ],\n        \"semantic_type\": \"\",\n        \"description\": \"\"\n      }\n    }\n  ]\n}"
            }
          },
          "metadata": {},
          "execution_count": 172
        }
      ],
      "source": [
        "\n",
        "import pandas as pd # used for data orgnization and manipulation\n",
        "from scipy import stats #used for data statistcs\n",
        "import numpy as np #used for numerical processing of data\n",
        "import matplotlib.pyplot as plt #used for plot display\n",
        "import seaborn as sns #used for graph display\n",
        "\n",
        "# Load the data using pandas\n",
        "df_evaluators = pd.read_csv('evaluators.csv')\n",
        "\n",
        "# display the first five rows of the dataframe\n",
        "df_evaluators.head()\n"
      ]
    },
    {
      "cell_type": "code",
      "execution_count": 173,
      "metadata": {
        "id": "eDw0XnX3BRhe",
        "outputId": "bae10ea5-3150-4621-d39f-916927bb058f",
        "colab": {
          "base_uri": "https://localhost:8080/"
        }
      },
      "outputs": [
        {
          "output_type": "stream",
          "name": "stdout",
          "text": [
            "mean for age: 30.852941176470587\n",
            "deviation for age: 6.238358141327351\n"
          ]
        }
      ],
      "source": [
        "# Q4a (code):\n",
        "# Calculate mean and standard deviation for age\n",
        "mean = df_evaluators['age'].mean()\n",
        "std = df_evaluators['age'].std()\n",
        "# print the results\n",
        "print(\"mean for age:\", mean)\n",
        "print(\"deviation for age:\", std)"
      ]
    },
    {
      "cell_type": "code",
      "execution_count": 174,
      "metadata": {
        "id": "I0tU57R5ufRI",
        "outputId": "728a340d-1808-49c1-9dbe-c200d9bca2f5",
        "colab": {
          "base_uri": "https://localhost:8080/"
        }
      },
      "outputs": [
        {
          "output_type": "stream",
          "name": "stdout",
          "text": [
            "there are 4 male evaluators, there are 30 female evaluators\n"
          ]
        }
      ],
      "source": [
        "# Q4b (code)\n",
        "# Count male and female evaluators\n",
        "# In the 'sex' column: 1 represents males and 2 represents females\n",
        "\n",
        "# define how to count sex in the datadframe using 'groupby'\n",
        "sex_counts = df_evaluators.groupby('sex').size()\n",
        "\n",
        "# count the sex separately\n",
        "count_male = sex_counts.get(1)\n",
        "count_female = sex_counts.get(2)\n",
        "\n",
        "# print the results\n",
        "print(f\"there are {count_male} male evaluators, there are {count_female} female evaluators\")\n",
        "\n",
        "\n",
        "\n"
      ]
    },
    {
      "cell_type": "markdown",
      "metadata": {
        "id": "KK-MdZfdpDI3"
      },
      "source": [
        "###Step 2: Calculate overall intellect ratings from evaluators and prepare a combined dataset for analysis\n",
        "\n",
        "We are now going to calculate an overall intellect rating given by each evaluator. To break that down a bit, we are going to calculate how intellectual the evaluators (the raters) thought candidates were overall, depending on whether the evaluators read or listened to the candidates' resume pitches. This is calculated by averaging the ratings of competent, thoughtful and intelligent for each evaluator held within ratings.csv.\n",
        "\n",
        "Note: We are not looking at ratings to individual candidates; we are looking at overall ratings for each evaluator. This is a bit confusing but makes sense if you stop to think about it a little. You can think about it in terms of \"do raters rate differently depending on whether they read or listen to a resume pitch\".\n",
        "We will then combine the overall intellect rating with the overall impression ratings and overall hire ratings for each evaluator, all ready found in ratings.csv. In the end we will have a new new dataframe named \"ratings2\" - which has the below structure:\n",
        "\n",
        "**eval_id** shows the evaluator ID. Each evaluator has a different ID. So all the 1's are the same evaluator.\n",
        "\n",
        "**Category** shows the scale that they were rating on - intellect, hire, impression\n",
        "\n",
        "**Rating** shows the overall rating given by that evaluator on a given scale.\n",
        "\n",
        "**condition** shows whether that evaluator listened to (e.g., evaluators 1, 2 and 3), or read (e.g., evaluator 4) the resume.\n",
        "\n",
        "\n",
        "**Instructions:**\n",
        "\n",
        "1. Load the ratings.csv file.\n",
        "\n",
        "2. Filter and calculate the mean intellect rating for each evaluator.\n",
        "\n",
        "3. Combine this with overall impression and hire ratings to create a new DataFrame named \"rating2\".\n",
        "\n",
        "4. Merge this DataFrame with the evaluator demographics.\n",
        "\n",
        "**Question 5**:\n",
        "\n",
        "Print the head of \"rating2\".\n"
      ]
    },
    {
      "cell_type": "code",
      "execution_count": 175,
      "metadata": {
        "id": "l85NzSC-pj57",
        "outputId": "7055f3c7-2948-4fbd-9a56-d710b1fe1b68",
        "colab": {
          "base_uri": "https://localhost:8080/",
          "height": 206
        }
      },
      "outputs": [
        {
          "output_type": "execute_result",
          "data": {
            "text/plain": [
              "   eval_id     Category  Rating\n",
              "0        1    competent     6.0\n",
              "1        1   thoughtful     6.0\n",
              "2        1  intelligent     6.0\n",
              "3        1   impression     7.0\n",
              "4        1         hire     6.0"
            ],
            "text/html": [
              "\n",
              "  <div id=\"df-d5ab776f-1830-45f8-8e9d-f0072967fc8b\" class=\"colab-df-container\">\n",
              "    <div>\n",
              "<style scoped>\n",
              "    .dataframe tbody tr th:only-of-type {\n",
              "        vertical-align: middle;\n",
              "    }\n",
              "\n",
              "    .dataframe tbody tr th {\n",
              "        vertical-align: top;\n",
              "    }\n",
              "\n",
              "    .dataframe thead th {\n",
              "        text-align: right;\n",
              "    }\n",
              "</style>\n",
              "<table border=\"1\" class=\"dataframe\">\n",
              "  <thead>\n",
              "    <tr style=\"text-align: right;\">\n",
              "      <th></th>\n",
              "      <th>eval_id</th>\n",
              "      <th>Category</th>\n",
              "      <th>Rating</th>\n",
              "    </tr>\n",
              "  </thead>\n",
              "  <tbody>\n",
              "    <tr>\n",
              "      <th>0</th>\n",
              "      <td>1</td>\n",
              "      <td>competent</td>\n",
              "      <td>6.0</td>\n",
              "    </tr>\n",
              "    <tr>\n",
              "      <th>1</th>\n",
              "      <td>1</td>\n",
              "      <td>thoughtful</td>\n",
              "      <td>6.0</td>\n",
              "    </tr>\n",
              "    <tr>\n",
              "      <th>2</th>\n",
              "      <td>1</td>\n",
              "      <td>intelligent</td>\n",
              "      <td>6.0</td>\n",
              "    </tr>\n",
              "    <tr>\n",
              "      <th>3</th>\n",
              "      <td>1</td>\n",
              "      <td>impression</td>\n",
              "      <td>7.0</td>\n",
              "    </tr>\n",
              "    <tr>\n",
              "      <th>4</th>\n",
              "      <td>1</td>\n",
              "      <td>hire</td>\n",
              "      <td>6.0</td>\n",
              "    </tr>\n",
              "  </tbody>\n",
              "</table>\n",
              "</div>\n",
              "    <div class=\"colab-df-buttons\">\n",
              "\n",
              "  <div class=\"colab-df-container\">\n",
              "    <button class=\"colab-df-convert\" onclick=\"convertToInteractive('df-d5ab776f-1830-45f8-8e9d-f0072967fc8b')\"\n",
              "            title=\"Convert this dataframe to an interactive table.\"\n",
              "            style=\"display:none;\">\n",
              "\n",
              "  <svg xmlns=\"http://www.w3.org/2000/svg\" height=\"24px\" viewBox=\"0 -960 960 960\">\n",
              "    <path d=\"M120-120v-720h720v720H120Zm60-500h600v-160H180v160Zm220 220h160v-160H400v160Zm0 220h160v-160H400v160ZM180-400h160v-160H180v160Zm440 0h160v-160H620v160ZM180-180h160v-160H180v160Zm440 0h160v-160H620v160Z\"/>\n",
              "  </svg>\n",
              "    </button>\n",
              "\n",
              "  <style>\n",
              "    .colab-df-container {\n",
              "      display:flex;\n",
              "      gap: 12px;\n",
              "    }\n",
              "\n",
              "    .colab-df-convert {\n",
              "      background-color: #E8F0FE;\n",
              "      border: none;\n",
              "      border-radius: 50%;\n",
              "      cursor: pointer;\n",
              "      display: none;\n",
              "      fill: #1967D2;\n",
              "      height: 32px;\n",
              "      padding: 0 0 0 0;\n",
              "      width: 32px;\n",
              "    }\n",
              "\n",
              "    .colab-df-convert:hover {\n",
              "      background-color: #E2EBFA;\n",
              "      box-shadow: 0px 1px 2px rgba(60, 64, 67, 0.3), 0px 1px 3px 1px rgba(60, 64, 67, 0.15);\n",
              "      fill: #174EA6;\n",
              "    }\n",
              "\n",
              "    .colab-df-buttons div {\n",
              "      margin-bottom: 4px;\n",
              "    }\n",
              "\n",
              "    [theme=dark] .colab-df-convert {\n",
              "      background-color: #3B4455;\n",
              "      fill: #D2E3FC;\n",
              "    }\n",
              "\n",
              "    [theme=dark] .colab-df-convert:hover {\n",
              "      background-color: #434B5C;\n",
              "      box-shadow: 0px 1px 3px 1px rgba(0, 0, 0, 0.15);\n",
              "      filter: drop-shadow(0px 1px 2px rgba(0, 0, 0, 0.3));\n",
              "      fill: #FFFFFF;\n",
              "    }\n",
              "  </style>\n",
              "\n",
              "    <script>\n",
              "      const buttonEl =\n",
              "        document.querySelector('#df-d5ab776f-1830-45f8-8e9d-f0072967fc8b button.colab-df-convert');\n",
              "      buttonEl.style.display =\n",
              "        google.colab.kernel.accessAllowed ? 'block' : 'none';\n",
              "\n",
              "      async function convertToInteractive(key) {\n",
              "        const element = document.querySelector('#df-d5ab776f-1830-45f8-8e9d-f0072967fc8b');\n",
              "        const dataTable =\n",
              "          await google.colab.kernel.invokeFunction('convertToInteractive',\n",
              "                                                    [key], {});\n",
              "        if (!dataTable) return;\n",
              "\n",
              "        const docLinkHtml = 'Like what you see? Visit the ' +\n",
              "          '<a target=\"_blank\" href=https://colab.research.google.com/notebooks/data_table.ipynb>data table notebook</a>'\n",
              "          + ' to learn more about interactive tables.';\n",
              "        element.innerHTML = '';\n",
              "        dataTable['output_type'] = 'display_data';\n",
              "        await google.colab.output.renderOutput(dataTable, element);\n",
              "        const docLink = document.createElement('div');\n",
              "        docLink.innerHTML = docLinkHtml;\n",
              "        element.appendChild(docLink);\n",
              "      }\n",
              "    </script>\n",
              "  </div>\n",
              "\n",
              "\n",
              "<div id=\"df-6b16cd26-c4c6-4543-8cc7-941d83995343\">\n",
              "  <button class=\"colab-df-quickchart\" onclick=\"quickchart('df-6b16cd26-c4c6-4543-8cc7-941d83995343')\"\n",
              "            title=\"Suggest charts\"\n",
              "            style=\"display:none;\">\n",
              "\n",
              "<svg xmlns=\"http://www.w3.org/2000/svg\" height=\"24px\"viewBox=\"0 0 24 24\"\n",
              "     width=\"24px\">\n",
              "    <g>\n",
              "        <path d=\"M19 3H5c-1.1 0-2 .9-2 2v14c0 1.1.9 2 2 2h14c1.1 0 2-.9 2-2V5c0-1.1-.9-2-2-2zM9 17H7v-7h2v7zm4 0h-2V7h2v10zm4 0h-2v-4h2v4z\"/>\n",
              "    </g>\n",
              "</svg>\n",
              "  </button>\n",
              "\n",
              "<style>\n",
              "  .colab-df-quickchart {\n",
              "      --bg-color: #E8F0FE;\n",
              "      --fill-color: #1967D2;\n",
              "      --hover-bg-color: #E2EBFA;\n",
              "      --hover-fill-color: #174EA6;\n",
              "      --disabled-fill-color: #AAA;\n",
              "      --disabled-bg-color: #DDD;\n",
              "  }\n",
              "\n",
              "  [theme=dark] .colab-df-quickchart {\n",
              "      --bg-color: #3B4455;\n",
              "      --fill-color: #D2E3FC;\n",
              "      --hover-bg-color: #434B5C;\n",
              "      --hover-fill-color: #FFFFFF;\n",
              "      --disabled-bg-color: #3B4455;\n",
              "      --disabled-fill-color: #666;\n",
              "  }\n",
              "\n",
              "  .colab-df-quickchart {\n",
              "    background-color: var(--bg-color);\n",
              "    border: none;\n",
              "    border-radius: 50%;\n",
              "    cursor: pointer;\n",
              "    display: none;\n",
              "    fill: var(--fill-color);\n",
              "    height: 32px;\n",
              "    padding: 0;\n",
              "    width: 32px;\n",
              "  }\n",
              "\n",
              "  .colab-df-quickchart:hover {\n",
              "    background-color: var(--hover-bg-color);\n",
              "    box-shadow: 0 1px 2px rgba(60, 64, 67, 0.3), 0 1px 3px 1px rgba(60, 64, 67, 0.15);\n",
              "    fill: var(--button-hover-fill-color);\n",
              "  }\n",
              "\n",
              "  .colab-df-quickchart-complete:disabled,\n",
              "  .colab-df-quickchart-complete:disabled:hover {\n",
              "    background-color: var(--disabled-bg-color);\n",
              "    fill: var(--disabled-fill-color);\n",
              "    box-shadow: none;\n",
              "  }\n",
              "\n",
              "  .colab-df-spinner {\n",
              "    border: 2px solid var(--fill-color);\n",
              "    border-color: transparent;\n",
              "    border-bottom-color: var(--fill-color);\n",
              "    animation:\n",
              "      spin 1s steps(1) infinite;\n",
              "  }\n",
              "\n",
              "  @keyframes spin {\n",
              "    0% {\n",
              "      border-color: transparent;\n",
              "      border-bottom-color: var(--fill-color);\n",
              "      border-left-color: var(--fill-color);\n",
              "    }\n",
              "    20% {\n",
              "      border-color: transparent;\n",
              "      border-left-color: var(--fill-color);\n",
              "      border-top-color: var(--fill-color);\n",
              "    }\n",
              "    30% {\n",
              "      border-color: transparent;\n",
              "      border-left-color: var(--fill-color);\n",
              "      border-top-color: var(--fill-color);\n",
              "      border-right-color: var(--fill-color);\n",
              "    }\n",
              "    40% {\n",
              "      border-color: transparent;\n",
              "      border-right-color: var(--fill-color);\n",
              "      border-top-color: var(--fill-color);\n",
              "    }\n",
              "    60% {\n",
              "      border-color: transparent;\n",
              "      border-right-color: var(--fill-color);\n",
              "    }\n",
              "    80% {\n",
              "      border-color: transparent;\n",
              "      border-right-color: var(--fill-color);\n",
              "      border-bottom-color: var(--fill-color);\n",
              "    }\n",
              "    90% {\n",
              "      border-color: transparent;\n",
              "      border-bottom-color: var(--fill-color);\n",
              "    }\n",
              "  }\n",
              "</style>\n",
              "\n",
              "  <script>\n",
              "    async function quickchart(key) {\n",
              "      const quickchartButtonEl =\n",
              "        document.querySelector('#' + key + ' button');\n",
              "      quickchartButtonEl.disabled = true;  // To prevent multiple clicks.\n",
              "      quickchartButtonEl.classList.add('colab-df-spinner');\n",
              "      try {\n",
              "        const charts = await google.colab.kernel.invokeFunction(\n",
              "            'suggestCharts', [key], {});\n",
              "      } catch (error) {\n",
              "        console.error('Error during call to suggestCharts:', error);\n",
              "      }\n",
              "      quickchartButtonEl.classList.remove('colab-df-spinner');\n",
              "      quickchartButtonEl.classList.add('colab-df-quickchart-complete');\n",
              "    }\n",
              "    (() => {\n",
              "      let quickchartButtonEl =\n",
              "        document.querySelector('#df-6b16cd26-c4c6-4543-8cc7-941d83995343 button');\n",
              "      quickchartButtonEl.style.display =\n",
              "        google.colab.kernel.accessAllowed ? 'block' : 'none';\n",
              "    })();\n",
              "  </script>\n",
              "</div>\n",
              "    </div>\n",
              "  </div>\n"
            ],
            "application/vnd.google.colaboratory.intrinsic+json": {
              "type": "dataframe",
              "variable_name": "df_ratings",
              "summary": "{\n  \"name\": \"df_ratings\",\n  \"rows\": 195,\n  \"fields\": [\n    {\n      \"column\": \"eval_id\",\n      \"properties\": {\n        \"dtype\": \"number\",\n        \"std\": 11,\n        \"min\": 1,\n        \"max\": 39,\n        \"num_unique_values\": 39,\n        \"samples\": [\n          34,\n          37,\n          5\n        ],\n        \"semantic_type\": \"\",\n        \"description\": \"\"\n      }\n    },\n    {\n      \"column\": \"Category\",\n      \"properties\": {\n        \"dtype\": \"category\",\n        \"num_unique_values\": 5,\n        \"samples\": [\n          \"thoughtful\",\n          \"hire\",\n          \"intelligent\"\n        ],\n        \"semantic_type\": \"\",\n        \"description\": \"\"\n      }\n    },\n    {\n      \"column\": \"Rating\",\n      \"properties\": {\n        \"dtype\": \"number\",\n        \"std\": 2.2324528797120267,\n        \"min\": 0.0,\n        \"max\": 9.0,\n        \"num_unique_values\": 26,\n        \"samples\": [\n          1.0,\n          8.66666666666667,\n          6.0\n        ],\n        \"semantic_type\": \"\",\n        \"description\": \"\"\n      }\n    }\n  ]\n}"
            }
          },
          "metadata": {},
          "execution_count": 175
        }
      ],
      "source": [
        "# Load ratings data\n",
        "df_ratings = pd.read_csv('ratings.csv')\n",
        "df_ratings.head()\n"
      ]
    },
    {
      "cell_type": "code",
      "execution_count": 176,
      "metadata": {
        "id": "5dxtVUSMBZwf",
        "outputId": "7bd09bac-bf56-4714-c824-1418f72108bf",
        "colab": {
          "base_uri": "https://localhost:8080/",
          "height": 206
        }
      },
      "outputs": [
        {
          "output_type": "execute_result",
          "data": {
            "text/plain": [
              "    eval_id    Category    Rating condition\n",
              "40        1        hire  6.000000  listened\n",
              "39        1  impression  7.000000  listened\n",
              "0         1   intellect  6.000000  listened\n",
              "42        2        hire  4.000000  listened\n",
              "41        2  impression  4.666667  listened"
            ],
            "text/html": [
              "\n",
              "  <div id=\"df-da0e8b45-3dba-4cb8-b5ef-c25eb0acb7be\" class=\"colab-df-container\">\n",
              "    <div>\n",
              "<style scoped>\n",
              "    .dataframe tbody tr th:only-of-type {\n",
              "        vertical-align: middle;\n",
              "    }\n",
              "\n",
              "    .dataframe tbody tr th {\n",
              "        vertical-align: top;\n",
              "    }\n",
              "\n",
              "    .dataframe thead th {\n",
              "        text-align: right;\n",
              "    }\n",
              "</style>\n",
              "<table border=\"1\" class=\"dataframe\">\n",
              "  <thead>\n",
              "    <tr style=\"text-align: right;\">\n",
              "      <th></th>\n",
              "      <th>eval_id</th>\n",
              "      <th>Category</th>\n",
              "      <th>Rating</th>\n",
              "      <th>condition</th>\n",
              "    </tr>\n",
              "  </thead>\n",
              "  <tbody>\n",
              "    <tr>\n",
              "      <th>40</th>\n",
              "      <td>1</td>\n",
              "      <td>hire</td>\n",
              "      <td>6.000000</td>\n",
              "      <td>listened</td>\n",
              "    </tr>\n",
              "    <tr>\n",
              "      <th>39</th>\n",
              "      <td>1</td>\n",
              "      <td>impression</td>\n",
              "      <td>7.000000</td>\n",
              "      <td>listened</td>\n",
              "    </tr>\n",
              "    <tr>\n",
              "      <th>0</th>\n",
              "      <td>1</td>\n",
              "      <td>intellect</td>\n",
              "      <td>6.000000</td>\n",
              "      <td>listened</td>\n",
              "    </tr>\n",
              "    <tr>\n",
              "      <th>42</th>\n",
              "      <td>2</td>\n",
              "      <td>hire</td>\n",
              "      <td>4.000000</td>\n",
              "      <td>listened</td>\n",
              "    </tr>\n",
              "    <tr>\n",
              "      <th>41</th>\n",
              "      <td>2</td>\n",
              "      <td>impression</td>\n",
              "      <td>4.666667</td>\n",
              "      <td>listened</td>\n",
              "    </tr>\n",
              "  </tbody>\n",
              "</table>\n",
              "</div>\n",
              "    <div class=\"colab-df-buttons\">\n",
              "\n",
              "  <div class=\"colab-df-container\">\n",
              "    <button class=\"colab-df-convert\" onclick=\"convertToInteractive('df-da0e8b45-3dba-4cb8-b5ef-c25eb0acb7be')\"\n",
              "            title=\"Convert this dataframe to an interactive table.\"\n",
              "            style=\"display:none;\">\n",
              "\n",
              "  <svg xmlns=\"http://www.w3.org/2000/svg\" height=\"24px\" viewBox=\"0 -960 960 960\">\n",
              "    <path d=\"M120-120v-720h720v720H120Zm60-500h600v-160H180v160Zm220 220h160v-160H400v160Zm0 220h160v-160H400v160ZM180-400h160v-160H180v160Zm440 0h160v-160H620v160ZM180-180h160v-160H180v160Zm440 0h160v-160H620v160Z\"/>\n",
              "  </svg>\n",
              "    </button>\n",
              "\n",
              "  <style>\n",
              "    .colab-df-container {\n",
              "      display:flex;\n",
              "      gap: 12px;\n",
              "    }\n",
              "\n",
              "    .colab-df-convert {\n",
              "      background-color: #E8F0FE;\n",
              "      border: none;\n",
              "      border-radius: 50%;\n",
              "      cursor: pointer;\n",
              "      display: none;\n",
              "      fill: #1967D2;\n",
              "      height: 32px;\n",
              "      padding: 0 0 0 0;\n",
              "      width: 32px;\n",
              "    }\n",
              "\n",
              "    .colab-df-convert:hover {\n",
              "      background-color: #E2EBFA;\n",
              "      box-shadow: 0px 1px 2px rgba(60, 64, 67, 0.3), 0px 1px 3px 1px rgba(60, 64, 67, 0.15);\n",
              "      fill: #174EA6;\n",
              "    }\n",
              "\n",
              "    .colab-df-buttons div {\n",
              "      margin-bottom: 4px;\n",
              "    }\n",
              "\n",
              "    [theme=dark] .colab-df-convert {\n",
              "      background-color: #3B4455;\n",
              "      fill: #D2E3FC;\n",
              "    }\n",
              "\n",
              "    [theme=dark] .colab-df-convert:hover {\n",
              "      background-color: #434B5C;\n",
              "      box-shadow: 0px 1px 3px 1px rgba(0, 0, 0, 0.15);\n",
              "      filter: drop-shadow(0px 1px 2px rgba(0, 0, 0, 0.3));\n",
              "      fill: #FFFFFF;\n",
              "    }\n",
              "  </style>\n",
              "\n",
              "    <script>\n",
              "      const buttonEl =\n",
              "        document.querySelector('#df-da0e8b45-3dba-4cb8-b5ef-c25eb0acb7be button.colab-df-convert');\n",
              "      buttonEl.style.display =\n",
              "        google.colab.kernel.accessAllowed ? 'block' : 'none';\n",
              "\n",
              "      async function convertToInteractive(key) {\n",
              "        const element = document.querySelector('#df-da0e8b45-3dba-4cb8-b5ef-c25eb0acb7be');\n",
              "        const dataTable =\n",
              "          await google.colab.kernel.invokeFunction('convertToInteractive',\n",
              "                                                    [key], {});\n",
              "        if (!dataTable) return;\n",
              "\n",
              "        const docLinkHtml = 'Like what you see? Visit the ' +\n",
              "          '<a target=\"_blank\" href=https://colab.research.google.com/notebooks/data_table.ipynb>data table notebook</a>'\n",
              "          + ' to learn more about interactive tables.';\n",
              "        element.innerHTML = '';\n",
              "        dataTable['output_type'] = 'display_data';\n",
              "        await google.colab.output.renderOutput(dataTable, element);\n",
              "        const docLink = document.createElement('div');\n",
              "        docLink.innerHTML = docLinkHtml;\n",
              "        element.appendChild(docLink);\n",
              "      }\n",
              "    </script>\n",
              "  </div>\n",
              "\n",
              "\n",
              "<div id=\"df-a650464f-b5c4-448e-95e6-8a82b73b0af8\">\n",
              "  <button class=\"colab-df-quickchart\" onclick=\"quickchart('df-a650464f-b5c4-448e-95e6-8a82b73b0af8')\"\n",
              "            title=\"Suggest charts\"\n",
              "            style=\"display:none;\">\n",
              "\n",
              "<svg xmlns=\"http://www.w3.org/2000/svg\" height=\"24px\"viewBox=\"0 0 24 24\"\n",
              "     width=\"24px\">\n",
              "    <g>\n",
              "        <path d=\"M19 3H5c-1.1 0-2 .9-2 2v14c0 1.1.9 2 2 2h14c1.1 0 2-.9 2-2V5c0-1.1-.9-2-2-2zM9 17H7v-7h2v7zm4 0h-2V7h2v10zm4 0h-2v-4h2v4z\"/>\n",
              "    </g>\n",
              "</svg>\n",
              "  </button>\n",
              "\n",
              "<style>\n",
              "  .colab-df-quickchart {\n",
              "      --bg-color: #E8F0FE;\n",
              "      --fill-color: #1967D2;\n",
              "      --hover-bg-color: #E2EBFA;\n",
              "      --hover-fill-color: #174EA6;\n",
              "      --disabled-fill-color: #AAA;\n",
              "      --disabled-bg-color: #DDD;\n",
              "  }\n",
              "\n",
              "  [theme=dark] .colab-df-quickchart {\n",
              "      --bg-color: #3B4455;\n",
              "      --fill-color: #D2E3FC;\n",
              "      --hover-bg-color: #434B5C;\n",
              "      --hover-fill-color: #FFFFFF;\n",
              "      --disabled-bg-color: #3B4455;\n",
              "      --disabled-fill-color: #666;\n",
              "  }\n",
              "\n",
              "  .colab-df-quickchart {\n",
              "    background-color: var(--bg-color);\n",
              "    border: none;\n",
              "    border-radius: 50%;\n",
              "    cursor: pointer;\n",
              "    display: none;\n",
              "    fill: var(--fill-color);\n",
              "    height: 32px;\n",
              "    padding: 0;\n",
              "    width: 32px;\n",
              "  }\n",
              "\n",
              "  .colab-df-quickchart:hover {\n",
              "    background-color: var(--hover-bg-color);\n",
              "    box-shadow: 0 1px 2px rgba(60, 64, 67, 0.3), 0 1px 3px 1px rgba(60, 64, 67, 0.15);\n",
              "    fill: var(--button-hover-fill-color);\n",
              "  }\n",
              "\n",
              "  .colab-df-quickchart-complete:disabled,\n",
              "  .colab-df-quickchart-complete:disabled:hover {\n",
              "    background-color: var(--disabled-bg-color);\n",
              "    fill: var(--disabled-fill-color);\n",
              "    box-shadow: none;\n",
              "  }\n",
              "\n",
              "  .colab-df-spinner {\n",
              "    border: 2px solid var(--fill-color);\n",
              "    border-color: transparent;\n",
              "    border-bottom-color: var(--fill-color);\n",
              "    animation:\n",
              "      spin 1s steps(1) infinite;\n",
              "  }\n",
              "\n",
              "  @keyframes spin {\n",
              "    0% {\n",
              "      border-color: transparent;\n",
              "      border-bottom-color: var(--fill-color);\n",
              "      border-left-color: var(--fill-color);\n",
              "    }\n",
              "    20% {\n",
              "      border-color: transparent;\n",
              "      border-left-color: var(--fill-color);\n",
              "      border-top-color: var(--fill-color);\n",
              "    }\n",
              "    30% {\n",
              "      border-color: transparent;\n",
              "      border-left-color: var(--fill-color);\n",
              "      border-top-color: var(--fill-color);\n",
              "      border-right-color: var(--fill-color);\n",
              "    }\n",
              "    40% {\n",
              "      border-color: transparent;\n",
              "      border-right-color: var(--fill-color);\n",
              "      border-top-color: var(--fill-color);\n",
              "    }\n",
              "    60% {\n",
              "      border-color: transparent;\n",
              "      border-right-color: var(--fill-color);\n",
              "    }\n",
              "    80% {\n",
              "      border-color: transparent;\n",
              "      border-right-color: var(--fill-color);\n",
              "      border-bottom-color: var(--fill-color);\n",
              "    }\n",
              "    90% {\n",
              "      border-color: transparent;\n",
              "      border-bottom-color: var(--fill-color);\n",
              "    }\n",
              "  }\n",
              "</style>\n",
              "\n",
              "  <script>\n",
              "    async function quickchart(key) {\n",
              "      const quickchartButtonEl =\n",
              "        document.querySelector('#' + key + ' button');\n",
              "      quickchartButtonEl.disabled = true;  // To prevent multiple clicks.\n",
              "      quickchartButtonEl.classList.add('colab-df-spinner');\n",
              "      try {\n",
              "        const charts = await google.colab.kernel.invokeFunction(\n",
              "            'suggestCharts', [key], {});\n",
              "      } catch (error) {\n",
              "        console.error('Error during call to suggestCharts:', error);\n",
              "      }\n",
              "      quickchartButtonEl.classList.remove('colab-df-spinner');\n",
              "      quickchartButtonEl.classList.add('colab-df-quickchart-complete');\n",
              "    }\n",
              "    (() => {\n",
              "      let quickchartButtonEl =\n",
              "        document.querySelector('#df-a650464f-b5c4-448e-95e6-8a82b73b0af8 button');\n",
              "      quickchartButtonEl.style.display =\n",
              "        google.colab.kernel.accessAllowed ? 'block' : 'none';\n",
              "    })();\n",
              "  </script>\n",
              "</div>\n",
              "    </div>\n",
              "  </div>\n"
            ],
            "application/vnd.google.colaboratory.intrinsic+json": {
              "type": "dataframe",
              "variable_name": "ratings2",
              "summary": "{\n  \"name\": \"ratings2\",\n  \"rows\": 117,\n  \"fields\": [\n    {\n      \"column\": \"eval_id\",\n      \"properties\": {\n        \"dtype\": \"number\",\n        \"std\": 11,\n        \"min\": 1,\n        \"max\": 39,\n        \"num_unique_values\": 39,\n        \"samples\": [\n          34,\n          37,\n          5\n        ],\n        \"semantic_type\": \"\",\n        \"description\": \"\"\n      }\n    },\n    {\n      \"column\": \"Category\",\n      \"properties\": {\n        \"dtype\": \"category\",\n        \"num_unique_values\": 3,\n        \"samples\": [\n          \"hire\",\n          \"impression\",\n          \"intellect\"\n        ],\n        \"semantic_type\": \"\",\n        \"description\": \"\"\n      }\n    },\n    {\n      \"column\": \"Rating\",\n      \"properties\": {\n        \"dtype\": \"number\",\n        \"std\": 2.2401977080961704,\n        \"min\": 0.0,\n        \"max\": 9.0,\n        \"num_unique_values\": 37,\n        \"samples\": [\n          7.33333333333333,\n          1.66666666666667,\n          5.666666666666667\n        ],\n        \"semantic_type\": \"\",\n        \"description\": \"\"\n      }\n    },\n    {\n      \"column\": \"condition\",\n      \"properties\": {\n        \"dtype\": \"category\",\n        \"num_unique_values\": 2,\n        \"samples\": [\n          \"read\",\n          \"listened\"\n        ],\n        \"semantic_type\": \"\",\n        \"description\": \"\"\n      }\n    }\n  ]\n}"
            }
          },
          "metadata": {},
          "execution_count": 176
        }
      ],
      "source": [
        "# Q5 (code):\n",
        "# Filter the ratings DataFrame to include only 'thoughtful', 'competent', and 'intelligent' categories\n",
        "int_df = df_ratings[(df_ratings['Category'] == 'thoughtful') | (df_ratings['Category'] == 'competent')|(df_ratings['Category'] == 'intelligent')]\n",
        "\n",
        "# Calculate the mean intellect rating for each evaluator\n",
        "# Group by 'eval_id' and calculate mean, then reset the index to convert groupby object back to DataFrame\n",
        "intellect_mean= int_df.groupby('eval_id')['Rating'].mean().reset_index()\n",
        "\n",
        "\n",
        "# Add a 'Category' column with the value 'intellect' for these rows\n",
        "intellect_mean['Category'] = 'intellect'\n",
        "\n",
        "# Create a DataFrame for 'impression' and 'hire' ratings\n",
        "other_ratings = df_ratings[(df_ratings['Category'] == 'impression') | (df_ratings['Category'] == 'hire')]\n",
        "\n",
        "\n",
        "# Combine the DataFrames to create 'ratings2'\n",
        "# Concatenate the 'intellect_mean' DataFrame with the 'other_ratings' DataFrame\n",
        "ratings2 = pd.concat([intellect_mean, other_ratings], ignore_index=True)\n",
        "\n",
        "\n",
        "# Join 'ratings2' with the 'df_evaluators' DataFrame to add the 'condition' column\n",
        "ratings2_with_condition = pd.merge(ratings2, df_evaluators[['eval_id', 'condition']], on='eval_id', how='left')\n",
        "\n",
        "\n",
        "# Select only the necessary columns as per the structure required\n",
        "final_ratings = ratings2_with_condition[['eval_id', 'Category', 'Rating', 'condition']]\n",
        "\n",
        "\n",
        "# Arrange by 'eval_id' and 'Category'\n",
        "ratings2 = final_ratings.sort_values(by=['eval_id', 'Category'])\n",
        "\n",
        "# Display the first few rows of the final 'ratings2' DataFrame to verify\n",
        "ratings2.head()\n"
      ]
    },
    {
      "cell_type": "markdown",
      "metadata": {
        "id": "fOmtKCzEpoOa"
      },
      "source": [
        "###Step 3: Perform descriptive and inferential statistical analyses, including testing assumptions and conducting independent t-tests.\n",
        "\n",
        "We are going to run the t-tests for Intellect, Hire and Impression; each time comparing evaluators overall ratings for the listened group versus overall ratings for the read group to see if there was a significant difference between the two conditions: i.e., did the evaluators who listened to pitches give a significant higher or lower rating than evaluators that read pitches?\n",
        "\n",
        "**Question 6**:\n",
        "\n",
        "a. In terms of hypotheses, how can we phrase the hypothesis?\n",
        "\n",
        "b. Which t-test should we choose, one-tail or two-tail? And explian why.\n",
        "\n",
        "c. What are the independent variable and the dependent variable here?\n",
        "\n"
      ]
    },
    {
      "cell_type": "code",
      "execution_count": 177,
      "metadata": {
        "id": "duti45rG22eS",
        "colab": {
          "base_uri": "https://localhost:8080/",
          "height": 53
        },
        "outputId": "d2a1969d-c228-48c9-add9-e0111d15fa4e"
      },
      "outputs": [
        {
          "output_type": "execute_result",
          "data": {
            "text/plain": [
              "'null hypothesis: There is no significant difference in the rating given by evaluators who listened to pitches and evaluators who read the pitches. hypothesis: There is a significant difference(higher or lower) in the  rating given by evaluators who listened to pitches compared to evaluators who read the pitches.'"
            ],
            "application/vnd.google.colaboratory.intrinsic+json": {
              "type": "string"
            }
          },
          "metadata": {},
          "execution_count": 177
        }
      ],
      "source": [
        "# Q6a (answer in words):\n",
        "# Null hypothesis:\n",
        "# Alternative hypothesis:\n",
        "'''null hypothesis: There is no significant difference in the rating given by evaluators who listened to pitches and evaluators who read the pitches. hypothesis: There is a significant difference(higher or lower) in the  rating given by evaluators who listened to pitches compared to evaluators who read the pitches.'''\n"
      ]
    },
    {
      "cell_type": "code",
      "execution_count": 178,
      "metadata": {
        "id": "EkoM_0js3fyS",
        "colab": {
          "base_uri": "https://localhost:8080/",
          "height": 35
        },
        "outputId": "16b4f4e1-a110-4fc0-fb9f-0d24ae7cfdaa"
      },
      "outputs": [
        {
          "output_type": "execute_result",
          "data": {
            "text/plain": [
              "'two-tail，because the alternative hypothesis is non-directional'"
            ],
            "application/vnd.google.colaboratory.intrinsic+json": {
              "type": "string"
            }
          },
          "metadata": {},
          "execution_count": 178
        }
      ],
      "source": [
        "# Q6b (answer in words):\n",
        "# Which t-test should we choose, one-tail or two-tail? Explian why.\n",
        "'''two-tail，because the alternative hypothesis is non-directional'''"
      ]
    },
    {
      "cell_type": "code",
      "execution_count": 179,
      "metadata": {
        "id": "073zOlIsI5ws",
        "colab": {
          "base_uri": "https://localhost:8080/",
          "height": 35
        },
        "outputId": "ad45d54c-8672-44b2-c90e-c472e00a715b"
      },
      "outputs": [
        {
          "output_type": "execute_result",
          "data": {
            "text/plain": [
              "' the independent variable: condition; the dependent variable: rating'"
            ],
            "application/vnd.google.colaboratory.intrinsic+json": {
              "type": "string"
            }
          },
          "metadata": {},
          "execution_count": 179
        }
      ],
      "source": [
        "# Q6c (answer in words):\n",
        "# What are the independent variable and the dependent variable here?\n",
        "''' the independent variable: condition; the dependent variable: rating'''"
      ]
    },
    {
      "cell_type": "markdown",
      "metadata": {
        "id": "4g-SpuDX23iL"
      },
      "source": [
        "\n",
        "To clarify, we are going to run three between-subjects t-tests in total; one for intellect ratings; one for hire ratings; one for impression ratings.\n",
        "\n",
        "**Instructions:**\n",
        "\n",
        "1. Descriptive analysis of the ratings.\n",
        "\n",
        "2. Test for normal distribution (Shapiro-Wilk test) and homogeneity of variances (Levene's test) for the intellect, impression, and hire ratings.\n",
        "\n",
        "3. Conduct independent t-tests comparing intellect, impression, and hire ratings between conditions (listened vs. read).\n",
        "\n",
        "Hints: three T-tests need to be performed.\n",
        "\n",
        "**Question 7**:\n",
        "\n",
        "a: Print the test results.\n",
        "\n",
        "b: Interpret the results of the above descriptive statistics, Shapiro-Wilk test, Levene's test, and independent t-tests. Explian why we use these tests and how we made our decisions based on the test result."
      ]
    },
    {
      "cell_type": "code",
      "source": [
        "##Q7a (code):\n",
        "\n",
        "from scipy.stats import shapiro, levene, ttest_ind # used for conducting statistic analysis\n",
        "\n",
        "# Define a function of the descriptive analysis and normal distribution test for single category value\n",
        "def test(dataframe, category_value):\n",
        "\n",
        "    #print the title of the analysis and test conducted\n",
        "    print('analysis for', category_value)\n",
        "    # Descriptive analysis of the ratings\n",
        "    # filter subdataframe of the category tested using groupby\n",
        "    value_df = dataframe.groupby('Category').get_group(category_value)\n",
        "    # Descriptive statistics for ratings in this category, and print the results\n",
        "    print(\"the descriptive analysis of ratings:\" )\n",
        "    print(value_df.describe())\n",
        "\n",
        "\n",
        "    # Test for normal distribution (Shapiro-Wilk test)\n",
        "    # conduct Shapiro-Wilk test to the ratings\n",
        "    score1, p_value1 = shapiro(value_df['Rating'])\n",
        "    # define the result with p value\n",
        "    if p_value1 > 0.05:\n",
        "        shapiro_result = \"ratings are normally distributed\"\n",
        "    else:\n",
        "        shapiro_result = \"ratings are not normally distributed\"\n",
        "    # print result of both normal distribution tests\n",
        "    print(shapiro_result)\n",
        "\n",
        "    # Test for homogeneity of variances (Levene's test)\n",
        "    # create the dataframe for categories other than the tested category in this fuction\n",
        "    other_df = dataframe[dataframe['Category'] != category_value]\n",
        "    # create a list to store rating lists in every other categories\n",
        "    all_ratings = [other_df[other_df['Category'] == cat]['Rating'] for cat in other_df['Category'].unique()]\n",
        "    # add the rating list of the tested category\n",
        "    all_ratings.append(value_df['Rating'])\n",
        "    # conduct the Levene's test\n",
        "    stat2, p_val2 = levene(*all_ratings)\n",
        "    # define the result with p value\n",
        "    if p_val2 < 0.05:\n",
        "        levene_result = \"Levene's test is significant - Don't use t test\"\n",
        "    else:\n",
        "        levene_result = \"Levene's test is not significant - proceed\"\n",
        "    # print result of Levene's test\n",
        "    print(levene_result)"
      ],
      "metadata": {
        "id": "qhJtH0Rh6G-F"
      },
      "execution_count": 190,
      "outputs": []
    },
    {
      "cell_type": "code",
      "source": [
        "#Define a function for Independent t-tests for single category\n",
        "\n",
        "def t_test(dataframe, category_value):\n",
        "\n",
        "    print (\"Independent t-tests of \", category_value)\n",
        "    # filter subdataframe of intellect ratings using groupby\n",
        "    value_df = ratings2.groupby('Category').get_group(category_value)\n",
        "    # filter subdataframe of both conditions\n",
        "    ratings_listen = value_df.groupby('condition').get_group('listened')\n",
        "    ratings_read = value_df.groupby('condition').get_group('read')\n",
        "    #Conduct independent t-tests\n",
        "    score4, p_val4 = stats.ttest_ind(ratings_listen['Rating'],ratings_read['Rating'])\n",
        "    # define the result with p value\n",
        "    if p_val4 < 0.05:\n",
        "      ttest_result = \"Difference is statistically significant - reject H0, confirm H1\"\n",
        "    else:\n",
        "      ttest_result = \"Difference is NOT statistically significant - reject H1, confirm H0\"\n",
        "    #print result of Levene's test\n",
        "    print(ttest_result)"
      ],
      "metadata": {
        "id": "9RmErbI_9EO0"
      },
      "execution_count": 192,
      "outputs": []
    },
    {
      "cell_type": "code",
      "execution_count": 193,
      "metadata": {
        "id": "QD3ZZRrAq4Gc",
        "outputId": "622da083-32b3-4874-86a7-5aae4748ec5d",
        "colab": {
          "base_uri": "https://localhost:8080/"
        }
      },
      "outputs": [
        {
          "output_type": "stream",
          "name": "stdout",
          "text": [
            "analysis for intellect\n",
            "the descriptive analysis of ratings:\n",
            "         eval_id     Rating\n",
            "count  39.000000  39.000000\n",
            "mean   20.000000   4.717949\n",
            "std    11.401754   2.000787\n",
            "min     1.000000   0.666667\n",
            "25%    10.500000   3.500000\n",
            "50%    20.000000   5.000000\n",
            "75%    29.500000   6.000000\n",
            "max    39.000000   9.000000\n",
            "ratings are normally distributed\n",
            "Levene's test is not significant - proceed\n"
          ]
        }
      ],
      "source": [
        "# desciptive analysis and normal distribution test for intellect category\n",
        "\n",
        "test(ratings2,'intellect')"
      ]
    },
    {
      "cell_type": "code",
      "execution_count": 194,
      "metadata": {
        "id": "ntkH3Cay0VFK",
        "outputId": "fab673b4-94ad-48da-b4d2-dcd70db750f4",
        "colab": {
          "base_uri": "https://localhost:8080/"
        }
      },
      "outputs": [
        {
          "output_type": "stream",
          "name": "stdout",
          "text": [
            "Independent t-tests of  intellect\n",
            "Difference is statistically significant - reject H0, confirm H1\n"
          ]
        }
      ],
      "source": [
        "# Independent t-test of intellect\n",
        "t_test(ratings2,'intellect')"
      ]
    },
    {
      "cell_type": "code",
      "source": [
        "# desciptive analysis and normal distribution test for impression category\n",
        "\n",
        "test(ratings2,'impression')"
      ],
      "metadata": {
        "colab": {
          "base_uri": "https://localhost:8080/"
        },
        "id": "7cf1FBHIAWqs",
        "outputId": "d7039863-6bd9-46b2-d804-ca359e68cbe5"
      },
      "execution_count": 195,
      "outputs": [
        {
          "output_type": "stream",
          "name": "stdout",
          "text": [
            "analysis for impression\n",
            "the descriptive analysis of ratings:\n",
            "         eval_id     Rating\n",
            "count  39.000000  39.000000\n",
            "mean   20.000000   5.094017\n",
            "std    11.401754   2.254234\n",
            "min     1.000000   0.333333\n",
            "25%    10.500000   3.666667\n",
            "50%    20.000000   5.333333\n",
            "75%    29.500000   7.000000\n",
            "max    39.000000   8.666667\n",
            "ratings are normally distributed\n",
            "Levene's test is not significant - proceed\n"
          ]
        }
      ]
    },
    {
      "cell_type": "code",
      "source": [
        "# Independent t-test of impression\n",
        "t_test(ratings2,'impression')"
      ],
      "metadata": {
        "colab": {
          "base_uri": "https://localhost:8080/"
        },
        "id": "QC2eP3ugAdrR",
        "outputId": "829dfda4-d48c-4234-b8e6-33ba84e1501c"
      },
      "execution_count": 196,
      "outputs": [
        {
          "output_type": "stream",
          "name": "stdout",
          "text": [
            "Independent t-tests of  impression\n",
            "Difference is statistically significant - reject H0, confirm H1\n"
          ]
        }
      ]
    },
    {
      "cell_type": "code",
      "source": [
        "# desciptive analysis and normal distribution test for hire category\n",
        "\n",
        "test(ratings2,'hire')"
      ],
      "metadata": {
        "colab": {
          "base_uri": "https://localhost:8080/"
        },
        "id": "QxCyOQ4ZAi1K",
        "outputId": "994c5e56-65fc-4694-c92c-b8eada5146c8"
      },
      "execution_count": 197,
      "outputs": [
        {
          "output_type": "stream",
          "name": "stdout",
          "text": [
            "analysis for hire\n",
            "the descriptive analysis of ratings:\n",
            "         eval_id     Rating\n",
            "count  39.000000  39.000000\n",
            "mean   20.000000   3.871795\n",
            "std    11.401754   2.330343\n",
            "min     1.000000   0.000000\n",
            "25%    10.500000   2.000000\n",
            "50%    20.000000   4.000000\n",
            "75%    29.500000   5.000000\n",
            "max    39.000000   8.000000\n",
            "ratings are not normally distributed\n",
            "Levene's test is not significant - proceed\n"
          ]
        }
      ]
    },
    {
      "cell_type": "code",
      "execution_count": 200,
      "metadata": {
        "id": "ULQ5zIRO0VFK",
        "colab": {
          "base_uri": "https://localhost:8080/",
          "height": 143
        },
        "outputId": "5cb6413c-57ed-46c9-a3ff-bc06c43b53a0"
      },
      "outputs": [
        {
          "output_type": "execute_result",
          "data": {
            "text/plain": [
              "' The descriptive analysis provides simple statistic results for central tendency and distribution situation of data.  Results of Levene tests shows if there is equal variances between samples in different category groups. For the Levene\\'s test, the results are all not significant, this means the assumption of homogeneity of variances is met， the t-test is suggested for every category. Results of Shapiro-Wilk tests suggest if t-test should be used.  For the intellect and impression categories, the results of Shapiro-Wilk test are both positive, the data of them are both normally distributed. So the t-test should be conducted in them. Results of t-tests in these two are both \"Difference is statistically significant\" , which means there is a significant difference in the rating given by evaluators who listened to pitches compared to those who read for ratings of intellect and impression. However, the result in hire shows data in this category is not normally distributed, so the t-test for hire should not be used.'"
            ],
            "application/vnd.google.colaboratory.intrinsic+json": {
              "type": "string"
            }
          },
          "metadata": {},
          "execution_count": 200
        }
      ],
      "source": [
        "#Q7b (answer in words):\n",
        "\n",
        "''' The descriptive analysis provides simple statistic results for central tendency and distribution situation of data.  Results of Levene tests shows if there is equal variances between samples in different category groups. For the Levene's test, the results are all not significant, this means the assumption of homogeneity of variances is met， the t-test is suggested for every category. Results of Shapiro-Wilk tests suggest if t-test should be used.  For the intellect and impression categories, the results of Shapiro-Wilk test are both positive, the data of them are both normally distributed. So the t-test should be conducted in them. Results of t-tests in these two are both \"Difference is statistically significant\" , which means there is a significant difference in the rating given by evaluators who listened to pitches compared to those who read for ratings of intellect and impression. However, the result in hire shows data in this category is not normally distributed, so the t-test for hire should not be used.'''\n",
        "\n"
      ]
    },
    {
      "cell_type": "code",
      "execution_count": 187,
      "metadata": {
        "id": "944b0pq50VFL"
      },
      "outputs": [],
      "source": []
    }
  ],
  "metadata": {
    "colab": {
      "provenance": []
    },
    "kernelspec": {
      "display_name": "Python 3 (ipykernel)",
      "language": "python",
      "name": "python3"
    },
    "language_info": {
      "codemirror_mode": {
        "name": "ipython",
        "version": 3
      },
      "file_extension": ".py",
      "mimetype": "text/x-python",
      "name": "python",
      "nbconvert_exporter": "python",
      "pygments_lexer": "ipython3",
      "version": "3.11.4"
    }
  },
  "nbformat": 4,
  "nbformat_minor": 0
}